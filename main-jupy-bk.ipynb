{
 "cells": [
  {
   "cell_type": "markdown",
   "metadata": {},
   "source": [
    "# RAMP on Detecting Attacks on an Industrial Water System from Its Operational Status\n",
    "\n",
    "Laurent Pipitone (Student CentraleSupélec / Master IAC)\n",
    "\n",
    "## Introduction\n",
    "\n",
    "This notebook focuses on the detection of cyber attacks within critical industrial systems using the BATtle of Attack Detection Algorithms (BaTaDal) dataset. The BaTaDal dataset simulates various scenarios of cyber incidents in a water distribution network named C-Town. The aim of this project is to build and evaluate machine learning models capable of distinguishing between normal operation periods and those affected by cyber attacks, using only sensor data from the industrial environment.\n",
    "\n",
    "### Dataset Description\n",
    "\n",
    "The BaTaDal dataset comprises data collected over multiple time periods, including both normal operations and periods where cyber attacks were simulated. The data captures measurements from various sensors and actuators, such as water levels, pump statuses, and flow rates, which are critical for the operation of the water distribution system. The dataset contains two main parts:\n",
    "\n",
    "- **Training Dataset 1**: A one-year long simulation of normal operations without any cyber attacks.\n",
    "- **Training Dataset 2**: A six-month long simulation containing various cyber attacks, including replay attacks, data injections, and modifications of control signals. The attacks are labeled, making it suitable for supervised learning tasks.\n",
    "\n",
    "### Objective\n",
    "\n",
    "The objective of this analysis is to explore the potential of using sensor data to detect cyber attacks in industrial control systems (ICS). Specifically, we aim to address the following questions:\n",
    "- Can machine learning models accurately distinguish between normal and attack scenarios using only sensor data?\n",
    "- Which features (e.g., water levels, pump flows) are most indicative of a cyber attack?\n",
    "- How do different models perform in terms of detecting attack instances, and what are their strengths and limitations?\n",
    "\n",
    "### Structure of the Notebook\n",
    "\n",
    "1. **Data Loading and Preprocessing**: Import the necessary libraries, load the dataset, and preprocess the data for analysis.\n",
    "2. **Exploratory Data Analysis (EDA)**: Understand the distributions, correlations, and potential patterns in the data, both in normal and attack scenarios.\n",
    "3. **Feature Engineering**: Create and transform features to enhance model performance.\n",
    "4. **Model Training**: Train various classification models to detect cyber attacks.\n",
    "5. **Model Evaluation**: Assess the performance of the models using appropriate metrics and visualize the results.\n",
    "6. **Conclusion**: Summarize findings and suggest potential improvements for future research."
   ]
  },
  {
   "cell_type": "code",
   "execution_count": null,
   "metadata": {},
   "outputs": [],
   "source": [
    "import pandas as pd\n",
    "import numpy as np\n",
    "import matplotlib.pyplot as plt\n",
    "import seaborn as sns\n",
    "from sklearn.model_selection import train_test_split\n",
    "from sklearn.preprocessing import StandardScaler\n",
    "from sklearn.metrics import classification_report, accuracy_score, roc_curve, auc"
   ]
  },
  {
   "cell_type": "markdown",
   "metadata": {},
   "source": [
    "## Loading the data with pandas"
   ]
  },
  {
   "cell_type": "code",
   "execution_count": null,
   "metadata": {},
   "outputs": [],
   "source": [
    "file_path = './BATADAL_dataset04.csv'  \n",
    "data = pd.read_csv(file_path)\n",
    "\n",
    "print(data.head())\n",
    "\n",
    "print(data.info())\n",
    "\n",
    "print(data.describe())"
   ]
  },
  {
   "cell_type": "code",
   "execution_count": null,
   "metadata": {},
   "outputs": [],
   "source": []
  },
  {
   "cell_type": "markdown",
   "metadata": {},
   "source": [
    "# Configuration de base pour les graphiques avec le nouveau style\n",
    "sns.set_theme(style=\"whitegrid\")\n",
    "plt.rcParams[\"figure.figsize\"] = (10, 6)"
   ]
  }
 ],
 "metadata": {
  "kernelspec": {
   "display_name": "Python 3",
   "language": "python",
   "name": "python3"
  },
  "language_info": {
   "codemirror_mode": {
    "name": "ipython",
    "version": 3
   },
   "file_extension": ".py",
   "mimetype": "text/x-python",
   "name": "python",
   "nbconvert_exporter": "python",
   "pygments_lexer": "ipython3",
   "version": "3.13.0"
  }
 },
 "nbformat": 4,
 "nbformat_minor": 2
}
